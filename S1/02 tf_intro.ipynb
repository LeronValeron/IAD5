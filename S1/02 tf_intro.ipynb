{
 "metadata": {
  "kernelspec": {
   "display_name": "Python 3",
   "language": "python",
   "name": "python3"
  },
  "language_info": {
   "codemirror_mode": {
    "name": "ipython",
    "version": 3
   },
   "file_extension": ".py",
   "mimetype": "text/x-python",
   "name": "python",
   "nbconvert_exporter": "python",
   "pygments_lexer": "ipython3",
   "version": "3.5.2"
  },
  "name": "",
  "signature": "sha256:396b745a8ce78f36e68e26d92e975c2dadb372e8d3a116d4156b1637c4ffb7da"
 },
 "nbformat": 3,
 "nbformat_minor": 0,
 "worksheets": [
  {
   "cells": [
    {
     "cell_type": "code",
     "collapsed": true,
     "input": [
      "# Basic Operations example using TensorFlow library.\n",
      "# Author: Aymeric Damien\n",
      "# Project: https://github.com/aymericdamien/TensorFlow-Examples/"
     ],
     "language": "python",
     "metadata": {},
     "outputs": [],
     "prompt_number": 1
    },
    {
     "cell_type": "code",
     "collapsed": true,
     "input": [
      "import tensorflow as tf"
     ],
     "language": "python",
     "metadata": {},
     "outputs": [
      {
       "output_type": "stream",
       "stream": "stderr",
       "text": [
        "/usr/local/lib/python3.5/dist-packages/h5py/__init__.py:36: FutureWarning: Conversion of the second argument of issubdtype from `float` to `np.floating` is deprecated. In future, it will be treated as `np.float64 == np.dtype(float).type`.\n",
        "  from ._conv import register_converters as _register_converters\n"
       ]
      }
     ],
     "prompt_number": 2
    },
    {
     "cell_type": "code",
     "collapsed": true,
     "input": [
      "# Basic constant operations\n",
      "# The value returned by the constructor represents the output\n",
      "# of the Constant op.\n",
      "a = tf.constant(2)\n",
      "b = tf.constant(3)\n",
      "print(a, b)"
     ],
     "language": "python",
     "metadata": {},
     "outputs": [
      {
       "output_type": "stream",
       "stream": "stdout",
       "text": [
        "Tensor(\"Const_6:0\", shape=(), dtype=int32) Tensor(\"Const_7:0\", shape=(), dtype=int32)\n"
       ]
      }
     ],
     "prompt_number": 16
    },
    {
     "cell_type": "code",
     "collapsed": false,
     "input": [
      "# Launch the default graph.\n",
      "with tf.Session() as sess:\n",
      "    print(\"a: %i\" % sess.run(a), \"b: %i\" % sess.run(b))\n",
      "    print(\"Addition with constants: %i\" % sess.run(a+b))\n",
      "    print(\"Multiplication with constants: %i\" % sess.run(a*b))"
     ],
     "language": "python",
     "metadata": {},
     "outputs": [
      {
       "output_type": "stream",
       "stream": "stdout",
       "text": [
        "a: 2 b: 3\n",
        "Addition with constants: 5\n",
        "Multiplication with constants: 6\n"
       ]
      }
     ],
     "prompt_number": 5
    },
    {
     "cell_type": "code",
     "collapsed": true,
     "input": [
      "# Basic Operations with variable as graph input\n",
      "# The value returned by the constructor represents the output\n",
      "# of the Variable op. (define as input when running session)\n",
      "# tf Graph input\n",
      "a = tf.placeholder(tf.int16)\n",
      "b = tf.placeholder(tf.int16)\n",
      "print(a, b)"
     ],
     "language": "python",
     "metadata": {},
     "outputs": [
      {
       "output_type": "stream",
       "stream": "stdout",
       "text": [
        "Tensor(\"Placeholder_2:0\", dtype=int16) Tensor(\"Placeholder_3:0\", dtype=int16)\n"
       ]
      }
     ],
     "prompt_number": 17
    },
    {
     "cell_type": "code",
     "collapsed": true,
     "input": [
      "# Define some operations\n",
      "add = tf.add(a, b)\n",
      "mul = tf.multiply(a, b)"
     ],
     "language": "python",
     "metadata": {},
     "outputs": [],
     "prompt_number": 18
    },
    {
     "cell_type": "code",
     "collapsed": false,
     "input": [
      "# Launch the default graph.\n",
      "with tf.Session() as sess:\n",
      "    # Run every operation with variable input\n",
      "    print(\"Addition with variables: %i\" % sess.run(add, feed_dict={a: 2, b: 3}))\n",
      "    print(\"Multiplication with variables: %i\" % sess.run(mul, feed_dict={a: 2, b: 3}))"
     ],
     "language": "python",
     "metadata": {},
     "outputs": [
      {
       "output_type": "stream",
       "stream": "stdout",
       "text": [
        "Addition with variables: 5\n",
        "Multiplication with variables: 6\n"
       ]
      }
     ],
     "prompt_number": 9
    },
    {
     "cell_type": "code",
     "collapsed": true,
     "input": [
      "# ----------------\n",
      "# More in details:\n",
      "# Matrix Multiplication from TensorFlow official tutorial\n",
      "\n",
      "# Create a Constant op that produces a 1x2 matrix.  The op is\n",
      "# added as a node to the default graph.\n",
      "#\n",
      "# The value returned by the constructor represents the output\n",
      "# of the Constant op.\n",
      "matrix1 = tf.constant([[3., 3.]])"
     ],
     "language": "python",
     "metadata": {},
     "outputs": [],
     "prompt_number": 10
    },
    {
     "cell_type": "code",
     "collapsed": true,
     "input": [
      "# Create another Constant that produces a 2x1 matrix.\n",
      "matrix2 = tf.constant([[2.],[2.]])"
     ],
     "language": "python",
     "metadata": {},
     "outputs": [],
     "prompt_number": 11
    },
    {
     "cell_type": "code",
     "collapsed": true,
     "input": [
      "# Create a Matmul op that takes 'matrix1' and 'matrix2' as inputs.\n",
      "# The returned value, 'product', represents the result of the matrix\n",
      "# multiplication.\n",
      "q = tf.matmul(matrix1, matrix2)\n",
      "product = tf.matmul(matrix1, matrix2)"
     ],
     "language": "python",
     "metadata": {},
     "outputs": [],
     "prompt_number": 24
    },
    {
     "cell_type": "code",
     "collapsed": false,
     "input": [
      "# To run the matmul op we call the session 'run()' method, passing 'product'\n",
      "# which represents the output of the matmul op.  This indicates to the call\n",
      "# that we want to get the output of the matmul op back.\n",
      "#\n",
      "# All inputs needed by the op are run automatically by the session.  They\n",
      "# typically are run in parallel.\n",
      "#\n",
      "# The call 'run(product)' thus causes the execution of threes ops in the\n",
      "# graph: the two constants and matmul.\n",
      "#\n",
      "# The output of the op is returned in 'result' as a numpy `ndarray` object.\n",
      "with tf.Session() as sess:\n",
      "    result = sess.run(q)\n",
      "    print(result)\n",
      "print(q)"
     ],
     "language": "python",
     "metadata": {},
     "outputs": [
      {
       "output_type": "stream",
       "stream": "stdout",
       "text": [
        "[[24.]]\n",
        "Tensor(\"Add_5:0\", shape=(1, 1), dtype=float32)\n"
       ]
      }
     ],
     "prompt_number": 30
    },
    {
     "cell_type": "code",
     "collapsed": false,
     "input": [],
     "language": "python",
     "metadata": {},
     "outputs": []
    }
   ],
   "metadata": {}
  }
 ]
}